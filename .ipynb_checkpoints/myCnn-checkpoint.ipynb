{
 "cells": [
  {
   "cell_type": "markdown",
   "metadata": {},
   "source": [
    "# Import and reshape data"
   ]
  },
  {
   "cell_type": "code",
   "execution_count": 1,
   "metadata": {},
   "outputs": [],
   "source": [
    "import tensorflow as tf\n",
    "(x_train, y_train), (x_test, y_test) = tf.keras.datasets.mnist.load_data()"
   ]
  },
  {
   "cell_type": "code",
   "execution_count": 2,
   "metadata": {},
   "outputs": [
    {
     "name": "stdout",
     "output_type": "stream",
     "text": [
      "8\n"
     ]
    },
    {
     "data": {
      "text/plain": [
       "<matplotlib.image.AxesImage at 0x17e40b5ff48>"
      ]
     },
     "execution_count": 2,
     "metadata": {},
     "output_type": "execute_result"
    },
    {
     "data": {
      "image/png": "[encoded data removed]",
      "text/plain": [
       "<Figure size 432x288 with 1 Axes>"
      ]
     },
     "metadata": {
      "needs_background": "light"
     },
     "output_type": "display_data"
    }
   ],
   "source": [
    "import matplotlib.pyplot as plt\n",
    "# Only use this if using iPython\n",
    "%matplotlib inline \n",
    "image_index = 24000 # You may select anything up to 60,000\n",
    "print(y_train[image_index]) # The label is 8\n",
    "plt.imshow(x_train[image_index], cmap='Greys')"
   ]
  },
  {
   "cell_type": "code",
   "execution_count": 3,
   "metadata": {},
   "outputs": [
    {
     "data": {
      "text/plain": [
       "(60000, 28, 28)"
      ]
     },
     "execution_count": 3,
     "metadata": {},
     "output_type": "execute_result"
    }
   ],
   "source": [
    "x_train.shape"
   ]
  },
  {
   "cell_type": "code",
   "execution_count": 4,
   "metadata": {},
   "outputs": [
    {
     "name": "stdout",
     "output_type": "stream",
     "text": [
      "x_train shape: (60000, 28, 28, 1)\n",
      "Number of images in x_train 60000\n",
      "Number of images in x_test 10000\n"
     ]
    }
   ],
   "source": [
    "# Reshaping the array to 4-dims so that it can work with the Keras API\n",
    "x_train = x_train.reshape(x_train.shape[0], 28, 28, 1)\n",
    "x_test = x_test.reshape(x_test.shape[0], 28, 28, 1)\n",
    "input_shape = (28, 28, 1)\n",
    "# Making sure that the values are float so that we can get decimal points after division\n",
    "x_train = x_train.astype('float32')\n",
    "x_test = x_test.astype('float32')\n",
    "# Normalizing the RGB codes by dividing it to the max RGB value.\n",
    "x_train /= 255\n",
    "x_test /= 255\n",
    "print('x_train shape:', x_train.shape)\n",
    "print('Number of images in x_train', x_train.shape[0])\n",
    "print('Number of images in x_test', x_test.shape[0])"
   ]
  },
  {
   "cell_type": "code",
   "execution_count": 5,
   "metadata": {
    "scrolled": true
   },
   "outputs": [],
   "source": [
    "import functions as my\n",
    "import numpy.random as random\n",
    "import numpy as np"
   ]
  },
  {
   "cell_type": "markdown",
   "metadata": {},
   "source": [
    "# Initializing weigths"
   ]
  },
  {
   "cell_type": "code",
   "execution_count": 6,
   "metadata": {},
   "outputs": [],
   "source": [
    "filters = my.convWeights()\n",
    "d1w = random.normal(loc=0, scale=0.2, size=(676, 128))\n",
    "d2w = random.normal(loc=0, scale=0.2, size=(128, 10))\n",
    "coef = 0.01 # or learning rate"
   ]
  },
  {
   "cell_type": "markdown",
   "metadata": {},
   "source": [
    "# Building network history"
   ]
  },
  {
   "cell_type": "markdown",
   "metadata": {},
   "source": [
    "convolutional layer"
   ]
  },
  {
   "cell_type": "code",
   "execution_count": 7,
   "metadata": {
    "scrolled": true
   },
   "outputs": [],
   "source": [
    "# for image in x_train\n",
    "# image = x_train[0]\n",
    "# label = y_train[0]\n",
    "# print(image.shape)\n",
    "# print(filters[0].shape)\n",
    "# cnnOutput = my.convLayer(image, filters)\n",
    "\n",
    "# flatOutput = my.flatten(cnnOutput)\n",
    "# print(flatOutput.shape)"
   ]
  },
  {
   "cell_type": "markdown",
   "metadata": {},
   "source": [
    "dense layers"
   ]
  },
  {
   "cell_type": "code",
   "execution_count": 8,
   "metadata": {
    "scrolled": true
   },
   "outputs": [],
   "source": [
    "# d1Output = my.dense(flatOutput, d1w, \"relu\")\n",
    "# d2Output = my.dense(d1Output, d2w, \"softmax\")"
   ]
  },
  {
   "cell_type": "markdown",
   "metadata": {},
   "source": [
    "prediction and loss"
   ]
  },
  {
   "cell_type": "code",
   "execution_count": 9,
   "metadata": {},
   "outputs": [],
   "source": [
    "# predictions = d2Output\n",
    "# prediction, probability = my.predict(predictions)\n",
    "# loss = my.CrossEntropy(predictions, label)\n",
    "\n",
    "# print (my.predict(predictions))\n",
    "# print(loss)\n",
    "# print(label)"
   ]
  },
  {
   "cell_type": "code",
   "execution_count": 10,
   "metadata": {},
   "outputs": [],
   "source": [
    "# def d1Bacprop(w, labels, d1output, d2output):\n",
    "#     # entropyDerr = d1output[i] - labels[i]\n",
    "#     # #if d1output index == d2 neuron index\n",
    "#     # softmaxDerr = d1output[i]*(1-d1output[i])\n",
    "#     # #else\n",
    "#     # softmaxDerr = d1output[i]*d1output[#d2 neuron index]\n",
    "#     grad = np.zeros((w.shape[0], w.shape[1]))\n",
    "#     print(grad)\n",
    "#     print(grad)\n",
    "#     for i in range (w.shape[1]):\n",
    "#         for j in range (w.shape[0]):\n",
    "#             grad[j][i] = (d2output[i]-labels[i]) * (d2output[i]*(1-d2output[i])) * d1output[j]\n",
    "#     return grad"
   ]
  },
  {
   "cell_type": "markdown",
   "metadata": {},
   "source": [
    "# My implemented model"
   ]
  },
  {
   "cell_type": "markdown",
   "metadata": {},
   "source": [
    "## Training"
   ]
  },
  {
   "cell_type": "code",
   "execution_count": null,
   "metadata": {},
   "outputs": [
    {
     "name": "stdout",
     "output_type": "stream",
     "text": [
      "Iteration: 0 is finished\n",
      "Iteration: 10 is finished\n",
      "Iteration: 20 is finished\n"
     ]
    }
   ],
   "source": [
    "epochs = 5\n",
    "allLoss = []\n",
    "accuracy = []\n",
    "\n",
    "for ep in range(epochs):\n",
    "    epochLoss=[]\n",
    "    predictions=[]\n",
    "    for i in range(len(x_train)):\n",
    "        image = x_train[i]\n",
    "        label = y_train[i]\n",
    "        #cnn\n",
    "        cnnOutput = my.convLayer(image, filters)\n",
    "        #flattening\n",
    "        flatOutput = my.flatten(cnnOutput)\n",
    "        \n",
    "        #dense\n",
    "        d1Output = my.dense(flatOutput, d1w, \"relu\")\n",
    "        d2Output = my.dense(d1Output, d2w, \"softmax\")\n",
    "        \n",
    "        #predictions and loss\n",
    "        predictions = d2Output\n",
    "        prediction, probability = my.predict(predictions)\n",
    "        loss = my.CrossEntropy(predictions, label)\n",
    "        \n",
    "        np.append(epochLoss, loss)\n",
    "        np.append(predictions, prediction)\n",
    "        \n",
    "        # gradient\n",
    "        labelsBp = np.zeros(10)\n",
    "        for ii in range (10):\n",
    "            if ii == label:\n",
    "                labelsBp[ii] = 1\n",
    "        gradW2 = my.d1Bacprop(d2w, labelsBp, d1Output, d2Output)\n",
    "        gradW1 = my.d2Bacprop(d1w, d2w, labelsBp, d1Output, d2Output, flatOutput)\n",
    "        \n",
    "        # update weights\n",
    "        d1w += coef*gradW1\n",
    "        d2w += coef*gradW2\n",
    "        \n",
    "        if(i%10 == 0):\n",
    "            print(f\" Epoch {ep} iteration {i} is finished\")\n",
    "    \n",
    "    \n",
    "    #for each epoch\n",
    "    np.append(allLoss, epochLoss)\n",
    "    predClass=[]\n",
    "    for qq in len(y_train):\n",
    "        if(predictions[qq] == y_train[qq]):\n",
    "#             predClass.append(1)\n",
    "            np.append(predClass, 1)\n",
    "        else:\n",
    "#             predClass.append(0)\n",
    "            np.append(predClass, 0)\n",
    "    acc = sum(predClass)/len(predClass)\n",
    "    np.append(accuracy, acc)\n",
    "    print(f\"Epoch: {ep}, loss: {epochLoss}, accuracy: {acc}\")"
   ]
  },
  {
   "cell_type": "markdown",
   "metadata": {},
   "source": [
    "## Testing"
   ]
  },
  {
   "cell_type": "code",
   "execution_count": null,
   "metadata": {},
   "outputs": [],
   "source": [
    "\n",
    "testLoss = []\n",
    "testPredictions = []\n",
    "for i in range(len(x_test)):\n",
    "    image = x_train[i]\n",
    "    label = y_train[i]\n",
    "    #cnn\n",
    "    cnnOutput = my.convLayer(image, filters)\n",
    "    #flattening\n",
    "    flatOutput = my.flatten(cnnOutput)\n",
    "\n",
    "    #dense\n",
    "    d1Output = my.dense(flatOutput, d1w, \"relu\")\n",
    "    d2Output = my.dense(d1Output, d2w, \"softmax\")\n",
    "\n",
    "    #predictions and loss\n",
    "    predictions = d2Output\n",
    "    prediction, probability = my.predict(predictions)\n",
    "    loss = my.CrossEntropy(predictions, label)\n",
    "\n",
    "    np.append(testLoss, loss)\n",
    "    np.append(testPredictions, prediction)\n",
    "\n",
    "for n in len(y_train):\n",
    "    if(predictions[n] == y_train[n]):\n",
    "        np.append(predClass, 1)\n",
    "    else:\n",
    "        np.append(predClass, 0)\n",
    "testAccuracy = sum(predClass)/len(predClass)"
   ]
  },
  {
   "cell_type": "code",
   "execution_count": null,
   "metadata": {},
   "outputs": [],
   "source": [
    "print(f\"Testing loses: {testLoss}\")\n",
    "print(f\"Testing accuracy: {testAccuracy}\")\n",
    "\n",
    "\n",
    "#TODO:\n",
    "#Plot loss, count averadge loss "
   ]
  }
 ],
 "metadata": {
  "kernelspec": {
   "display_name": "Python 3",
   "language": "python",
   "name": "python3"
  },
  "language_info": {
   "codemirror_mode": {
    "name": "ipython",
    "version": 3
   },
   "file_extension": ".py",
   "mimetype": "text/x-python",
   "name": "python",
   "nbconvert_exporter": "python",
   "pygments_lexer": "ipython3",
   "version": "3.7.6"
  }
 },
 "nbformat": 4,
 "nbformat_minor": 4
}
